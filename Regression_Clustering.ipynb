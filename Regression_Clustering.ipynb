{
  "nbformat": 4,
  "nbformat_minor": 0,
  "metadata": {
    "colab": {
      "provenance": []
    },
    "kernelspec": {
      "name": "python3",
      "display_name": "Python 3"
    },
    "language_info": {
      "name": "python"
    }
  },
  "cells": [
    {
      "cell_type": "markdown",
      "metadata": {
        "id": "t70BYqM9J2cf"
      },
      "source": [
        "# Импорт необходимых пакетов"
      ]
    },
    {
      "cell_type": "code",
      "metadata": {
        "id": "Tu6f6lDaJsbX"
      },
      "source": [
        "import numpy as np\n",
        "import pandas as pd\n",
        "import matplotlib.pyplot as plt\n",
        "\n",
        "# sklearn packages\n",
        "import sklearn.metrics as mtrx # меры качества\n",
        "from sklearn.preprocessing import MinMaxScaler # масштабирование\n",
        "from sklearn.model_selection import GridSearchCV # Поиск по решетке\n",
        "from sklearn.model_selection import cross_val_score # оценка кросс-валидации\n",
        "from sklearn.model_selection import cross_validate # кросс-валидация\n",
        "from sklearn.model_selection import train_test_split # разделение на обучающую/тестовую выборки\n",
        "\n",
        "from sklearn.svm import SVR # метод регрессии опорных векторов\n",
        "from sklearn.naive_bayes import GaussianNB # наивный Байес\n",
        "\n",
        "from scipy.cluster.hierarchy import dendrogram # дендрограмма\n",
        "from sklearn.cluster import AgglomerativeClustering # агломеративная кластеризация\n",
        "from sklearn.cluster import KMeans # к-средних"
      ],
      "execution_count": null,
      "outputs": []
    },
    {
      "cell_type": "code",
      "metadata": {
        "id": "3NOc1aZDKRtE"
      },
      "source": [
        "import warnings\n",
        "warnings.filterwarnings('ignore')"
      ],
      "execution_count": null,
      "outputs": []
    },
    {
      "cell_type": "markdown",
      "metadata": {
        "id": "LEkKqYIRKRYf"
      },
      "source": [
        "# Задача регрессии"
      ]
    },
    {
      "cell_type": "markdown",
      "source": [
        "Смоделируем тестовую задачу регрессии.\n",
        "\n",
        "$ y = sin(x) + N(0, 0.25), x \\in [-5,9] $"
      ],
      "metadata": {
        "id": "pjkzCW0QpDsc"
      }
    },
    {
      "cell_type": "code",
      "metadata": {
        "id": "tMwn4jXCQA2K",
        "colab": {
          "base_uri": "https://localhost:8080/",
          "height": 206
        },
        "outputId": "af6b862f-81d5-4500-c1da-070d2a014af8"
      },
      "source": [
        "# sample volume\n",
        "volume = 50\n",
        "minX = -3\n",
        "maxX = 9\n",
        "\n",
        "x = np.random.uniform(minX, maxX, volume)\n",
        "y = np.sin(x)\n",
        "yNoisy = y + np.random.normal(0, 0.25, volume)\n",
        "\n",
        "# сохраним в датафрейм как зашумеленные, так и исходные данные\n",
        "data = pd.DataFrame({'x':x, 'y': yNoisy, 'yClean': y})\n",
        "data.head()"
      ],
      "execution_count": null,
      "outputs": [
        {
          "output_type": "execute_result",
          "data": {
            "text/plain": [
              "          x         y    yClean\n",
              "0 -2.199768 -0.631181 -0.808633\n",
              "1 -1.533840 -0.903947 -0.999317\n",
              "2 -0.316694 -0.740420 -0.311427\n",
              "3  3.648972  0.067457 -0.485888\n",
              "4 -1.223774 -0.303174 -0.940389"
            ],
            "text/html": [
              "\n",
              "  <div id=\"df-4108376e-b050-42ea-b3f3-570fbf4d1f74\">\n",
              "    <div class=\"colab-df-container\">\n",
              "      <div>\n",
              "<style scoped>\n",
              "    .dataframe tbody tr th:only-of-type {\n",
              "        vertical-align: middle;\n",
              "    }\n",
              "\n",
              "    .dataframe tbody tr th {\n",
              "        vertical-align: top;\n",
              "    }\n",
              "\n",
              "    .dataframe thead th {\n",
              "        text-align: right;\n",
              "    }\n",
              "</style>\n",
              "<table border=\"1\" class=\"dataframe\">\n",
              "  <thead>\n",
              "    <tr style=\"text-align: right;\">\n",
              "      <th></th>\n",
              "      <th>x</th>\n",
              "      <th>y</th>\n",
              "      <th>yClean</th>\n",
              "    </tr>\n",
              "  </thead>\n",
              "  <tbody>\n",
              "    <tr>\n",
              "      <th>0</th>\n",
              "      <td>-2.199768</td>\n",
              "      <td>-0.631181</td>\n",
              "      <td>-0.808633</td>\n",
              "    </tr>\n",
              "    <tr>\n",
              "      <th>1</th>\n",
              "      <td>-1.533840</td>\n",
              "      <td>-0.903947</td>\n",
              "      <td>-0.999317</td>\n",
              "    </tr>\n",
              "    <tr>\n",
              "      <th>2</th>\n",
              "      <td>-0.316694</td>\n",
              "      <td>-0.740420</td>\n",
              "      <td>-0.311427</td>\n",
              "    </tr>\n",
              "    <tr>\n",
              "      <th>3</th>\n",
              "      <td>3.648972</td>\n",
              "      <td>0.067457</td>\n",
              "      <td>-0.485888</td>\n",
              "    </tr>\n",
              "    <tr>\n",
              "      <th>4</th>\n",
              "      <td>-1.223774</td>\n",
              "      <td>-0.303174</td>\n",
              "      <td>-0.940389</td>\n",
              "    </tr>\n",
              "  </tbody>\n",
              "</table>\n",
              "</div>\n",
              "      <button class=\"colab-df-convert\" onclick=\"convertToInteractive('df-4108376e-b050-42ea-b3f3-570fbf4d1f74')\"\n",
              "              title=\"Convert this dataframe to an interactive table.\"\n",
              "              style=\"display:none;\">\n",
              "        \n",
              "  <svg xmlns=\"http://www.w3.org/2000/svg\" height=\"24px\"viewBox=\"0 0 24 24\"\n",
              "       width=\"24px\">\n",
              "    <path d=\"M0 0h24v24H0V0z\" fill=\"none\"/>\n",
              "    <path d=\"M18.56 5.44l.94 2.06.94-2.06 2.06-.94-2.06-.94-.94-2.06-.94 2.06-2.06.94zm-11 1L8.5 8.5l.94-2.06 2.06-.94-2.06-.94L8.5 2.5l-.94 2.06-2.06.94zm10 10l.94 2.06.94-2.06 2.06-.94-2.06-.94-.94-2.06-.94 2.06-2.06.94z\"/><path d=\"M17.41 7.96l-1.37-1.37c-.4-.4-.92-.59-1.43-.59-.52 0-1.04.2-1.43.59L10.3 9.45l-7.72 7.72c-.78.78-.78 2.05 0 2.83L4 21.41c.39.39.9.59 1.41.59.51 0 1.02-.2 1.41-.59l7.78-7.78 2.81-2.81c.8-.78.8-2.07 0-2.86zM5.41 20L4 18.59l7.72-7.72 1.47 1.35L5.41 20z\"/>\n",
              "  </svg>\n",
              "      </button>\n",
              "      \n",
              "  <style>\n",
              "    .colab-df-container {\n",
              "      display:flex;\n",
              "      flex-wrap:wrap;\n",
              "      gap: 12px;\n",
              "    }\n",
              "\n",
              "    .colab-df-convert {\n",
              "      background-color: #E8F0FE;\n",
              "      border: none;\n",
              "      border-radius: 50%;\n",
              "      cursor: pointer;\n",
              "      display: none;\n",
              "      fill: #1967D2;\n",
              "      height: 32px;\n",
              "      padding: 0 0 0 0;\n",
              "      width: 32px;\n",
              "    }\n",
              "\n",
              "    .colab-df-convert:hover {\n",
              "      background-color: #E2EBFA;\n",
              "      box-shadow: 0px 1px 2px rgba(60, 64, 67, 0.3), 0px 1px 3px 1px rgba(60, 64, 67, 0.15);\n",
              "      fill: #174EA6;\n",
              "    }\n",
              "\n",
              "    [theme=dark] .colab-df-convert {\n",
              "      background-color: #3B4455;\n",
              "      fill: #D2E3FC;\n",
              "    }\n",
              "\n",
              "    [theme=dark] .colab-df-convert:hover {\n",
              "      background-color: #434B5C;\n",
              "      box-shadow: 0px 1px 3px 1px rgba(0, 0, 0, 0.15);\n",
              "      filter: drop-shadow(0px 1px 2px rgba(0, 0, 0, 0.3));\n",
              "      fill: #FFFFFF;\n",
              "    }\n",
              "  </style>\n",
              "\n",
              "      <script>\n",
              "        const buttonEl =\n",
              "          document.querySelector('#df-4108376e-b050-42ea-b3f3-570fbf4d1f74 button.colab-df-convert');\n",
              "        buttonEl.style.display =\n",
              "          google.colab.kernel.accessAllowed ? 'block' : 'none';\n",
              "\n",
              "        async function convertToInteractive(key) {\n",
              "          const element = document.querySelector('#df-4108376e-b050-42ea-b3f3-570fbf4d1f74');\n",
              "          const dataTable =\n",
              "            await google.colab.kernel.invokeFunction('convertToInteractive',\n",
              "                                                     [key], {});\n",
              "          if (!dataTable) return;\n",
              "\n",
              "          const docLinkHtml = 'Like what you see? Visit the ' +\n",
              "            '<a target=\"_blank\" href=https://colab.research.google.com/notebooks/data_table.ipynb>data table notebook</a>'\n",
              "            + ' to learn more about interactive tables.';\n",
              "          element.innerHTML = '';\n",
              "          dataTable['output_type'] = 'display_data';\n",
              "          await google.colab.output.renderOutput(dataTable, element);\n",
              "          const docLink = document.createElement('div');\n",
              "          docLink.innerHTML = docLinkHtml;\n",
              "          element.appendChild(docLink);\n",
              "        }\n",
              "      </script>\n",
              "    </div>\n",
              "  </div>\n",
              "  "
            ]
          },
          "metadata": {},
          "execution_count": 3
        }
      ]
    },
    {
      "cell_type": "markdown",
      "source": [
        "Построим график по выборке"
      ],
      "metadata": {
        "id": "GFfLIL1Rppws"
      }
    },
    {
      "cell_type": "code",
      "metadata": {
        "id": "7EV11hrNREpN",
        "colab": {
          "base_uri": "https://localhost:8080/",
          "height": 428
        },
        "outputId": "07a1a3f7-763d-4411-9f5f-f0463e929355"
      },
      "source": [
        "xSin = np.linspace(minX, maxX, 200)\n",
        "ySin = np.sin(xSin)\n",
        "\n",
        "fig, ax = plt.subplots(figsize=(12,7))\n",
        "ax.plot(xSin, ySin, color='red', label='Истинная зависимость')\n",
        "ax.scatter(data['x'], data['y'], color='blue', label='данные для анализа')\n",
        "ax.legend()\n",
        "plt.show()"
      ],
      "execution_count": null,
      "outputs": [
        {
          "output_type": "display_data",
          "data": {
            "text/plain": [
              "<Figure size 864x504 with 1 Axes>"
            ],
            "image/png": "[encoded data removed]"
          },
          "metadata": {
            "needs_background": "light"
          }
        }
      ]
    },
    {
      "cell_type": "markdown",
      "source": [
        "Проверим диапазоны"
      ],
      "metadata": {
        "id": "bPz8bd2npsgd"
      }
    },
    {
      "cell_type": "code",
      "metadata": {
        "id": "u0GFPiLCSwof",
        "colab": {
          "base_uri": "https://localhost:8080/",
          "height": 300
        },
        "outputId": "56e62c8c-7c5d-40c5-8634-70aea76ae1ed"
      },
      "source": [
        "data[['x','y']].describe()"
      ],
      "execution_count": null,
      "outputs": [
        {
          "output_type": "execute_result",
          "data": {
            "text/plain": [
              "               x          y\n",
              "count  50.000000  50.000000\n",
              "mean    3.138624   0.067914\n",
              "std     3.754129   0.809937\n",
              "min    -2.518882  -1.286467\n",
              "25%    -0.585881  -0.659402\n",
              "50%     2.791724   0.031937\n",
              "75%     6.876013   0.867210\n",
              "max     8.959987   1.289513"
            ],
            "text/html": [
              "\n",
              "  <div id=\"df-5ba0c3a9-eaae-4be6-b855-ebe267590463\">\n",
              "    <div class=\"colab-df-container\">\n",
              "      <div>\n",
              "<style scoped>\n",
              "    .dataframe tbody tr th:only-of-type {\n",
              "        vertical-align: middle;\n",
              "    }\n",
              "\n",
              "    .dataframe tbody tr th {\n",
              "        vertical-align: top;\n",
              "    }\n",
              "\n",
              "    .dataframe thead th {\n",
              "        text-align: right;\n",
              "    }\n",
              "</style>\n",
              "<table border=\"1\" class=\"dataframe\">\n",
              "  <thead>\n",
              "    <tr style=\"text-align: right;\">\n",
              "      <th></th>\n",
              "      <th>x</th>\n",
              "      <th>y</th>\n",
              "    </tr>\n",
              "  </thead>\n",
              "  <tbody>\n",
              "    <tr>\n",
              "      <th>count</th>\n",
              "      <td>50.000000</td>\n",
              "      <td>50.000000</td>\n",
              "    </tr>\n",
              "    <tr>\n",
              "      <th>mean</th>\n",
              "      <td>3.138624</td>\n",
              "      <td>0.067914</td>\n",
              "    </tr>\n",
              "    <tr>\n",
              "      <th>std</th>\n",
              "      <td>3.754129</td>\n",
              "      <td>0.809937</td>\n",
              "    </tr>\n",
              "    <tr>\n",
              "      <th>min</th>\n",
              "      <td>-2.518882</td>\n",
              "      <td>-1.286467</td>\n",
              "    </tr>\n",
              "    <tr>\n",
              "      <th>25%</th>\n",
              "      <td>-0.585881</td>\n",
              "      <td>-0.659402</td>\n",
              "    </tr>\n",
              "    <tr>\n",
              "      <th>50%</th>\n",
              "      <td>2.791724</td>\n",
              "      <td>0.031937</td>\n",
              "    </tr>\n",
              "    <tr>\n",
              "      <th>75%</th>\n",
              "      <td>6.876013</td>\n",
              "      <td>0.867210</td>\n",
              "    </tr>\n",
              "    <tr>\n",
              "      <th>max</th>\n",
              "      <td>8.959987</td>\n",
              "      <td>1.289513</td>\n",
              "    </tr>\n",
              "  </tbody>\n",
              "</table>\n",
              "</div>\n",
              "      <button class=\"colab-df-convert\" onclick=\"convertToInteractive('df-5ba0c3a9-eaae-4be6-b855-ebe267590463')\"\n",
              "              title=\"Convert this dataframe to an interactive table.\"\n",
              "              style=\"display:none;\">\n",
              "        \n",
              "  <svg xmlns=\"http://www.w3.org/2000/svg\" height=\"24px\"viewBox=\"0 0 24 24\"\n",
              "       width=\"24px\">\n",
              "    <path d=\"M0 0h24v24H0V0z\" fill=\"none\"/>\n",
              "    <path d=\"M18.56 5.44l.94 2.06.94-2.06 2.06-.94-2.06-.94-.94-2.06-.94 2.06-2.06.94zm-11 1L8.5 8.5l.94-2.06 2.06-.94-2.06-.94L8.5 2.5l-.94 2.06-2.06.94zm10 10l.94 2.06.94-2.06 2.06-.94-2.06-.94-.94-2.06-.94 2.06-2.06.94z\"/><path d=\"M17.41 7.96l-1.37-1.37c-.4-.4-.92-.59-1.43-.59-.52 0-1.04.2-1.43.59L10.3 9.45l-7.72 7.72c-.78.78-.78 2.05 0 2.83L4 21.41c.39.39.9.59 1.41.59.51 0 1.02-.2 1.41-.59l7.78-7.78 2.81-2.81c.8-.78.8-2.07 0-2.86zM5.41 20L4 18.59l7.72-7.72 1.47 1.35L5.41 20z\"/>\n",
              "  </svg>\n",
              "      </button>\n",
              "      \n",
              "  <style>\n",
              "    .colab-df-container {\n",
              "      display:flex;\n",
              "      flex-wrap:wrap;\n",
              "      gap: 12px;\n",
              "    }\n",
              "\n",
              "    .colab-df-convert {\n",
              "      background-color: #E8F0FE;\n",
              "      border: none;\n",
              "      border-radius: 50%;\n",
              "      cursor: pointer;\n",
              "      display: none;\n",
              "      fill: #1967D2;\n",
              "      height: 32px;\n",
              "      padding: 0 0 0 0;\n",
              "      width: 32px;\n",
              "    }\n",
              "\n",
              "    .colab-df-convert:hover {\n",
              "      background-color: #E2EBFA;\n",
              "      box-shadow: 0px 1px 2px rgba(60, 64, 67, 0.3), 0px 1px 3px 1px rgba(60, 64, 67, 0.15);\n",
              "      fill: #174EA6;\n",
              "    }\n",
              "\n",
              "    [theme=dark] .colab-df-convert {\n",
              "      background-color: #3B4455;\n",
              "      fill: #D2E3FC;\n",
              "    }\n",
              "\n",
              "    [theme=dark] .colab-df-convert:hover {\n",
              "      background-color: #434B5C;\n",
              "      box-shadow: 0px 1px 3px 1px rgba(0, 0, 0, 0.15);\n",
              "      filter: drop-shadow(0px 1px 2px rgba(0, 0, 0, 0.3));\n",
              "      fill: #FFFFFF;\n",
              "    }\n",
              "  </style>\n",
              "\n",
              "      <script>\n",
              "        const buttonEl =\n",
              "          document.querySelector('#df-5ba0c3a9-eaae-4be6-b855-ebe267590463 button.colab-df-convert');\n",
              "        buttonEl.style.display =\n",
              "          google.colab.kernel.accessAllowed ? 'block' : 'none';\n",
              "\n",
              "        async function convertToInteractive(key) {\n",
              "          const element = document.querySelector('#df-5ba0c3a9-eaae-4be6-b855-ebe267590463');\n",
              "          const dataTable =\n",
              "            await google.colab.kernel.invokeFunction('convertToInteractive',\n",
              "                                                     [key], {});\n",
              "          if (!dataTable) return;\n",
              "\n",
              "          const docLinkHtml = 'Like what you see? Visit the ' +\n",
              "            '<a target=\"_blank\" href=https://colab.research.google.com/notebooks/data_table.ipynb>data table notebook</a>'\n",
              "            + ' to learn more about interactive tables.';\n",
              "          element.innerHTML = '';\n",
              "          dataTable['output_type'] = 'display_data';\n",
              "          await google.colab.output.renderOutput(dataTable, element);\n",
              "          const docLink = document.createElement('div');\n",
              "          docLink.innerHTML = docLinkHtml;\n",
              "          element.appendChild(docLink);\n",
              "        }\n",
              "      </script>\n",
              "    </div>\n",
              "  </div>\n",
              "  "
            ]
          },
          "metadata": {},
          "execution_count": 5
        }
      ]
    },
    {
      "cell_type": "markdown",
      "source": [
        "В многомерных данных, масштабы значенй переменных могут существенно отличаться - необходимо привести к единому.\n",
        "\n",
        "Для многих методов необходимо чтобы данные были в конкретном диапазоне (например, $[0,1]$)."
      ],
      "metadata": {
        "id": "EySxgU9Dp1DV"
      }
    },
    {
      "cell_type": "code",
      "metadata": {
        "id": "pfzqPx9rU9iv",
        "colab": {
          "base_uri": "https://localhost:8080/",
          "height": 206
        },
        "outputId": "e50d4d66-2572-46ac-9276-eea90d1e2b01"
      },
      "source": [
        "# мастабировние в [0,1]\n",
        "scaler1 = MinMaxScaler()\n",
        "tmp = scaler1.fit_transform(data[['x', 'y']])\n",
        "\n",
        "dataScaled = pd.DataFrame(tmp, columns=['x','y'])\n",
        "dataScaled.head()"
      ],
      "execution_count": null,
      "outputs": [
        {
          "output_type": "execute_result",
          "data": {
            "text/plain": [
              "          x         y\n",
              "0  0.027800  0.254383\n",
              "1  0.085813  0.148495\n",
              "2  0.191847  0.211976\n",
              "3  0.537322  0.525596\n",
              "4  0.112825  0.381716"
            ],
            "text/html": [
              "\n",
              "  <div id=\"df-2632d963-8923-489b-930a-a23fb1a89840\">\n",
              "    <div class=\"colab-df-container\">\n",
              "      <div>\n",
              "<style scoped>\n",
              "    .dataframe tbody tr th:only-of-type {\n",
              "        vertical-align: middle;\n",
              "    }\n",
              "\n",
              "    .dataframe tbody tr th {\n",
              "        vertical-align: top;\n",
              "    }\n",
              "\n",
              "    .dataframe thead th {\n",
              "        text-align: right;\n",
              "    }\n",
              "</style>\n",
              "<table border=\"1\" class=\"dataframe\">\n",
              "  <thead>\n",
              "    <tr style=\"text-align: right;\">\n",
              "      <th></th>\n",
              "      <th>x</th>\n",
              "      <th>y</th>\n",
              "    </tr>\n",
              "  </thead>\n",
              "  <tbody>\n",
              "    <tr>\n",
              "      <th>0</th>\n",
              "      <td>0.027800</td>\n",
              "      <td>0.254383</td>\n",
              "    </tr>\n",
              "    <tr>\n",
              "      <th>1</th>\n",
              "      <td>0.085813</td>\n",
              "      <td>0.148495</td>\n",
              "    </tr>\n",
              "    <tr>\n",
              "      <th>2</th>\n",
              "      <td>0.191847</td>\n",
              "      <td>0.211976</td>\n",
              "    </tr>\n",
              "    <tr>\n",
              "      <th>3</th>\n",
              "      <td>0.537322</td>\n",
              "      <td>0.525596</td>\n",
              "    </tr>\n",
              "    <tr>\n",
              "      <th>4</th>\n",
              "      <td>0.112825</td>\n",
              "      <td>0.381716</td>\n",
              "    </tr>\n",
              "  </tbody>\n",
              "</table>\n",
              "</div>\n",
              "      <button class=\"colab-df-convert\" onclick=\"convertToInteractive('df-2632d963-8923-489b-930a-a23fb1a89840')\"\n",
              "              title=\"Convert this dataframe to an interactive table.\"\n",
              "              style=\"display:none;\">\n",
              "        \n",
              "  <svg xmlns=\"http://www.w3.org/2000/svg\" height=\"24px\"viewBox=\"0 0 24 24\"\n",
              "       width=\"24px\">\n",
              "    <path d=\"M0 0h24v24H0V0z\" fill=\"none\"/>\n",
              "    <path d=\"M18.56 5.44l.94 2.06.94-2.06 2.06-.94-2.06-.94-.94-2.06-.94 2.06-2.06.94zm-11 1L8.5 8.5l.94-2.06 2.06-.94-2.06-.94L8.5 2.5l-.94 2.06-2.06.94zm10 10l.94 2.06.94-2.06 2.06-.94-2.06-.94-.94-2.06-.94 2.06-2.06.94z\"/><path d=\"M17.41 7.96l-1.37-1.37c-.4-.4-.92-.59-1.43-.59-.52 0-1.04.2-1.43.59L10.3 9.45l-7.72 7.72c-.78.78-.78 2.05 0 2.83L4 21.41c.39.39.9.59 1.41.59.51 0 1.02-.2 1.41-.59l7.78-7.78 2.81-2.81c.8-.78.8-2.07 0-2.86zM5.41 20L4 18.59l7.72-7.72 1.47 1.35L5.41 20z\"/>\n",
              "  </svg>\n",
              "      </button>\n",
              "      \n",
              "  <style>\n",
              "    .colab-df-container {\n",
              "      display:flex;\n",
              "      flex-wrap:wrap;\n",
              "      gap: 12px;\n",
              "    }\n",
              "\n",
              "    .colab-df-convert {\n",
              "      background-color: #E8F0FE;\n",
              "      border: none;\n",
              "      border-radius: 50%;\n",
              "      cursor: pointer;\n",
              "      display: none;\n",
              "      fill: #1967D2;\n",
              "      height: 32px;\n",
              "      padding: 0 0 0 0;\n",
              "      width: 32px;\n",
              "    }\n",
              "\n",
              "    .colab-df-convert:hover {\n",
              "      background-color: #E2EBFA;\n",
              "      box-shadow: 0px 1px 2px rgba(60, 64, 67, 0.3), 0px 1px 3px 1px rgba(60, 64, 67, 0.15);\n",
              "      fill: #174EA6;\n",
              "    }\n",
              "\n",
              "    [theme=dark] .colab-df-convert {\n",
              "      background-color: #3B4455;\n",
              "      fill: #D2E3FC;\n",
              "    }\n",
              "\n",
              "    [theme=dark] .colab-df-convert:hover {\n",
              "      background-color: #434B5C;\n",
              "      box-shadow: 0px 1px 3px 1px rgba(0, 0, 0, 0.15);\n",
              "      filter: drop-shadow(0px 1px 2px rgba(0, 0, 0, 0.3));\n",
              "      fill: #FFFFFF;\n",
              "    }\n",
              "  </style>\n",
              "\n",
              "      <script>\n",
              "        const buttonEl =\n",
              "          document.querySelector('#df-2632d963-8923-489b-930a-a23fb1a89840 button.colab-df-convert');\n",
              "        buttonEl.style.display =\n",
              "          google.colab.kernel.accessAllowed ? 'block' : 'none';\n",
              "\n",
              "        async function convertToInteractive(key) {\n",
              "          const element = document.querySelector('#df-2632d963-8923-489b-930a-a23fb1a89840');\n",
              "          const dataTable =\n",
              "            await google.colab.kernel.invokeFunction('convertToInteractive',\n",
              "                                                     [key], {});\n",
              "          if (!dataTable) return;\n",
              "\n",
              "          const docLinkHtml = 'Like what you see? Visit the ' +\n",
              "            '<a target=\"_blank\" href=https://colab.research.google.com/notebooks/data_table.ipynb>data table notebook</a>'\n",
              "            + ' to learn more about interactive tables.';\n",
              "          element.innerHTML = '';\n",
              "          dataTable['output_type'] = 'display_data';\n",
              "          await google.colab.output.renderOutput(dataTable, element);\n",
              "          const docLink = document.createElement('div');\n",
              "          docLink.innerHTML = docLinkHtml;\n",
              "          element.appendChild(docLink);\n",
              "        }\n",
              "      </script>\n",
              "    </div>\n",
              "  </div>\n",
              "  "
            ]
          },
          "metadata": {},
          "execution_count": 6
        }
      ]
    },
    {
      "cell_type": "code",
      "metadata": {
        "id": "3gWSjsGdWjVC",
        "colab": {
          "base_uri": "https://localhost:8080/",
          "height": 336
        },
        "outputId": "e6655381-a975-4f4f-f85f-25fec3b9c555"
      },
      "source": [
        "fig, ax = plt.subplots(ncols=2, figsize=(16,5))\n",
        "ax[0].scatter(dataScaled['x'],dataScaled['y'],\n",
        "           color='blue')\n",
        "ax[0].set_title(\"с масштабированием\")\n",
        "ax[1].scatter(data['x'],data['y'],\n",
        "           color='blue')\n",
        "ax[1].set_title(\"без масштабирования\")\n",
        "plt.show()"
      ],
      "execution_count": null,
      "outputs": [
        {
          "output_type": "display_data",
          "data": {
            "text/plain": [
              "<Figure size 1152x360 with 2 Axes>"
            ],
            "image/png": "[encoded data removed]"
          },
          "metadata": {
            "needs_background": "light"
          }
        }
      ]
    },
    {
      "cell_type": "markdown",
      "source": [
        "Для валидации разделим данные на обучающую и тестовую выборки"
      ],
      "metadata": {
        "id": "72yCfv3iq0Ye"
      }
    },
    {
      "cell_type": "code",
      "metadata": {
        "id": "DxfliVrZYo5e",
        "colab": {
          "base_uri": "https://localhost:8080/"
        },
        "outputId": "7334390c-0977-4067-a80c-e9e35bc6a4a7"
      },
      "source": [
        "# split into train and test\n",
        "# trainX, testX, trainY, testY = train_test_split(X, Y)\n",
        "train, test = train_test_split(dataScaled)\n",
        "print(\"фрагмент обучающей выборки\")\n",
        "print(train.head(3))\n",
        "print(\"\")\n",
        "print(\"фрагмент тестовой выборки\")\n",
        "print(test.head(3))"
      ],
      "execution_count": null,
      "outputs": [
        {
          "output_type": "stream",
          "name": "stdout",
          "text": [
            "фрагмент обучающей выборки\n",
            "           x         y\n",
            "32  0.186191  0.297862\n",
            "49  0.117822  0.110427\n",
            "3   0.537322  0.525596\n",
            "\n",
            "фрагмент тестовой выборки\n",
            "           x         y\n",
            "45  0.805335  0.723604\n",
            "39  0.472639  0.640708\n",
            "27  0.072669  0.221817\n"
          ]
        }
      ]
    },
    {
      "cell_type": "markdown",
      "source": [
        "Построим модель методом регрессии опорных векторов"
      ],
      "metadata": {
        "id": "p_x0pwJDrIas"
      }
    },
    {
      "cell_type": "code",
      "metadata": {
        "id": "PLVH9AJaZd2L"
      },
      "source": [
        "# train SVR model with some parameters\n",
        "svrModel = SVR(C=1.0, epsilon=0.2)\n",
        "svrModel.fit(train['x'].values.reshape(-1,1),\n",
        "             train['y'].values.reshape(-1,1))\n",
        "predictSVR = svrModel.predict(test['x'].values.reshape(-1,1))"
      ],
      "execution_count": null,
      "outputs": []
    },
    {
      "cell_type": "markdown",
      "source": [
        "Построим кривую по полученной модели"
      ],
      "metadata": {
        "id": "CxW59mnDrNgQ"
      }
    },
    {
      "cell_type": "code",
      "metadata": {
        "id": "7mhT3RAKakKD",
        "colab": {
          "base_uri": "https://localhost:8080/",
          "height": 428
        },
        "outputId": "2b269fe6-d6bd-4453-d1fd-b21d38802115"
      },
      "source": [
        "# draw SVR model curve\n",
        "xSVR = np.linspace(0, 1, 200)\n",
        "ySVR = svrModel.predict(xSVR.reshape(-1,1))\n",
        "\n",
        "fig, ax = plt.subplots(figsize=(12,7))\n",
        "ax.plot(xSVR,ySVR,color='red',\n",
        "        label='Модель SVR')\n",
        "ax.scatter(dataScaled['x'],dataScaled['y'],\n",
        "           color='blue', label='данные')\n",
        "ax.legend()\n",
        "plt.show()"
      ],
      "execution_count": null,
      "outputs": [
        {
          "output_type": "display_data",
          "data": {
            "text/plain": [
              "<Figure size 864x504 with 1 Axes>"
            ],
            "image/png": "[encoded data removed]"
          },
          "metadata": {
            "needs_background": "light"
          }
        }
      ]
    },
    {
      "cell_type": "markdown",
      "source": [
        "Вычислим некоторые меры качества"
      ],
      "metadata": {
        "id": "1UUFwPTIrZNF"
      }
    },
    {
      "cell_type": "code",
      "metadata": {
        "id": "-cTJDn-ubyNY",
        "colab": {
          "base_uri": "https://localhost:8080/"
        },
        "outputId": "66dfd8ab-354b-456f-e335-8b09991b75d8"
      },
      "source": [
        "# some regresion metrics\n",
        "print('MSE:', mtrx.mean_squared_error(predictSVR, test['y']))\n",
        "print('MSE (root):',\n",
        "      mtrx.mean_squared_error(predictSVR, test['y'],\n",
        "                              squared=False))\n",
        "print('MAE:', mtrx.mean_absolute_error(predictSVR, test['y']))\n",
        "print('R2:', mtrx.r2_score(predictSVR, test['y']))"
      ],
      "execution_count": null,
      "outputs": [
        {
          "output_type": "stream",
          "name": "stdout",
          "text": [
            "MSE: 0.017869648404134655\n",
            "MSE (root): 0.1336774042392156\n",
            "MAE: 0.11066110242680932\n",
            "R2: 0.7205740932758283\n"
          ]
        }
      ]
    },
    {
      "cell_type": "code",
      "metadata": {
        "id": "pacOW0xQdrI2",
        "colab": {
          "base_uri": "https://localhost:8080/",
          "height": 428
        },
        "outputId": "030d7a26-de7c-421b-9919-303f5fd0aebf"
      },
      "source": [
        "# plot test data and prediction\n",
        "fig, ax = plt.subplots(figsize=(12,7))\n",
        "ax.scatter(test['x'],test['y'],\n",
        "           color='red', label='данные тестового набора')\n",
        "ax.scatter(test['x'],predictSVR,\n",
        "           color='blue', label='предсказанные данные')\n",
        "ax.legend()\n",
        "plt.show()"
      ],
      "execution_count": null,
      "outputs": [
        {
          "output_type": "display_data",
          "data": {
            "text/plain": [
              "<Figure size 864x504 with 1 Axes>"
            ],
            "image/png": "[encoded data removed]"
          },
          "metadata": {
            "needs_background": "light"
          }
        }
      ]
    },
    {
      "cell_type": "markdown",
      "source": [
        "Чтобы минимизиовать влияние неуданого случаного разбиения на обучение/тест, проведем 5-кратную кросс-валидацию"
      ],
      "metadata": {
        "id": "GQ7XbOnqr_zW"
      }
    },
    {
      "cell_type": "code",
      "metadata": {
        "id": "XUvcQ0iXegu7"
      },
      "source": [
        "# evaluate SVR using 5-fold crossvalidation\n",
        "svrModel2 = SVR(C=1.0, epsilon=0.2)\n",
        "scores = cross_validate(svrModel2,\n",
        "                  dataScaled['x'].values.reshape(-1,1),\n",
        "                  dataScaled['y'].values.reshape(-1,1),\n",
        "                  scoring=('r2', 'neg_mean_squared_error'))"
      ],
      "execution_count": null,
      "outputs": []
    },
    {
      "cell_type": "code",
      "metadata": {
        "id": "uEhFcwxVfD6H",
        "colab": {
          "base_uri": "https://localhost:8080/"
        },
        "outputId": "68f57a94-c3a9-4384-8897-c53ed9dd868b"
      },
      "source": [
        "scores"
      ],
      "execution_count": null,
      "outputs": [
        {
          "output_type": "execute_result",
          "data": {
            "text/plain": [
              "{'fit_time': array([0.00345063, 0.00105548, 0.00099015, 0.00126171, 0.00082564]),\n",
              " 'score_time': array([0.00124145, 0.00102401, 0.00108194, 0.00098729, 0.00101423]),\n",
              " 'test_r2': array([0.77969538, 0.6293781 , 0.78540537, 0.57880541, 0.80307285]),\n",
              " 'test_neg_mean_squared_error': array([-0.0235603 , -0.0339323 , -0.02285199, -0.02555664, -0.01872588])}"
            ]
          },
          "metadata": {},
          "execution_count": 15
        }
      ]
    },
    {
      "cell_type": "code",
      "metadata": {
        "id": "l3HThwNofngP",
        "colab": {
          "base_uri": "https://localhost:8080/"
        },
        "outputId": "fdbeb8c5-d1c8-4b98-a53a-876290354800"
      },
      "source": [
        "print('CV MSE:',\n",
        "      np.mean(-1*scores['test_neg_mean_squared_error']))\n",
        "print('CV R2:',\n",
        "      np.mean(scores['test_r2']))"
      ],
      "execution_count": null,
      "outputs": [
        {
          "output_type": "stream",
          "name": "stdout",
          "text": [
            "CV MSE: 0.02492542556010601\n",
            "CV R2: 0.7152714216989242\n"
          ]
        }
      ]
    },
    {
      "cell_type": "markdown",
      "source": [
        "На эффективность решения влияет выбор гиперпараметров модели. Можно попробовать подобрать параметры путем поиска \"по решетке\" и проверкой каждого набора через кросс-валидацию."
      ],
      "metadata": {
        "id": "bQ-8bin6sMMi"
      }
    },
    {
      "cell_type": "code",
      "metadata": {
        "id": "2bGx98Tmf88f",
        "colab": {
          "base_uri": "https://localhost:8080/"
        },
        "outputId": "e3d24921-455f-4d65-b3ed-4302dcf9d367"
      },
      "source": [
        "# grid search for SVR parameters using CV\n",
        "svrModel3=SVR()\n",
        "parameters = {'C': [0.1, 0.5, 1., 1.5],\n",
        "              'epsilon': [0.1, 0.25, 0.5, 0.75, 1]}\n",
        "clf = GridSearchCV(svrModel3, parameters,\n",
        "                   scoring=('neg_mean_squared_error'))\n",
        "clf.fit(dataScaled['x'].values.reshape(-1,1),\n",
        "                  dataScaled['y'].values.reshape(-1,1))"
      ],
      "execution_count": null,
      "outputs": [
        {
          "output_type": "execute_result",
          "data": {
            "text/plain": [
              "GridSearchCV(estimator=SVR(),\n",
              "             param_grid={'C': [0.1, 0.5, 1.0, 1.5],\n",
              "                         'epsilon': [0.1, 0.25, 0.5, 0.75, 1]},\n",
              "             scoring='neg_mean_squared_error')"
            ]
          },
          "metadata": {},
          "execution_count": 17
        }
      ]
    },
    {
      "cell_type": "code",
      "metadata": {
        "id": "nxO4Qm1jg0E_",
        "colab": {
          "base_uri": "https://localhost:8080/"
        },
        "outputId": "ef64cb61-8e4e-467a-ae08-86a83133933f"
      },
      "source": [
        "print('best parameters:', clf.best_params_)\n",
        "print('best score:', -1*clf.best_score_)"
      ],
      "execution_count": null,
      "outputs": [
        {
          "output_type": "stream",
          "name": "stdout",
          "text": [
            "best parameters: {'C': 1.5, 'epsilon': 0.1}\n",
            "best score: 0.01693418652568245\n"
          ]
        }
      ]
    },
    {
      "cell_type": "code",
      "metadata": {
        "id": "m54znku9hMfn",
        "colab": {
          "base_uri": "https://localhost:8080/",
          "height": 428
        },
        "outputId": "958f8685-26a7-43ad-e22f-15e23f5b547e"
      },
      "source": [
        "# plot best model\n",
        "xSVR = np.linspace(0, 1, 200)\n",
        "ySVR = clf.best_estimator_.predict(xSVR.reshape(-1,1))\n",
        "\n",
        "fig, ax = plt.subplots(figsize=(12,7))\n",
        "ax.plot(xSVR,ySVR,color='red', label='Модель SVR')\n",
        "ax.scatter(dataScaled['x'],dataScaled['y'], color='blue', label='данные')\n",
        "ax.legend()\n",
        "plt.show()"
      ],
      "execution_count": null,
      "outputs": [
        {
          "output_type": "display_data",
          "data": {
            "text/plain": [
              "<Figure size 864x504 with 1 Axes>"
            ],
            "image/png": "[encoded data removed]"
          },
          "metadata": {
            "needs_background": "light"
          }
        }
      ]
    },
    {
      "cell_type": "markdown",
      "source": [
        "Вернем данные, полученные по модели к исходному масштабу"
      ],
      "metadata": {
        "id": "ZH1rZnApspj0"
      }
    },
    {
      "cell_type": "code",
      "metadata": {
        "id": "RGWBbNW-hp3K",
        "colab": {
          "base_uri": "https://localhost:8080/",
          "height": 143
        },
        "outputId": "41480c04-03b4-47aa-bd11-eccf004d2575"
      },
      "source": [
        "# reverse scaling\n",
        "input = (data['x']- scaler1.data_min_[0]) / scaler1.data_range_[0]\n",
        "prediction = clf.best_estimator_.predict(input.values.reshape(-1,1))\n",
        "output = prediction * scaler1.data_range_[1] + scaler1.data_min_[1]\n",
        "data['SVR'] = output\n",
        "data.head(3)"
      ],
      "execution_count": null,
      "outputs": [
        {
          "output_type": "execute_result",
          "data": {
            "text/plain": [
              "          x         y    yClean       SVR\n",
              "0 -2.199768 -0.631181 -0.808633 -0.864390\n",
              "1 -1.533840 -0.903947 -0.999317 -0.854882\n",
              "2 -0.316694 -0.740420 -0.311427 -0.234521"
            ],
            "text/html": [
              "\n",
              "  <div id=\"df-e3be915c-537b-4a28-bbf9-11bbc7dd640a\">\n",
              "    <div class=\"colab-df-container\">\n",
              "      <div>\n",
              "<style scoped>\n",
              "    .dataframe tbody tr th:only-of-type {\n",
              "        vertical-align: middle;\n",
              "    }\n",
              "\n",
              "    .dataframe tbody tr th {\n",
              "        vertical-align: top;\n",
              "    }\n",
              "\n",
              "    .dataframe thead th {\n",
              "        text-align: right;\n",
              "    }\n",
              "</style>\n",
              "<table border=\"1\" class=\"dataframe\">\n",
              "  <thead>\n",
              "    <tr style=\"text-align: right;\">\n",
              "      <th></th>\n",
              "      <th>x</th>\n",
              "      <th>y</th>\n",
              "      <th>yClean</th>\n",
              "      <th>SVR</th>\n",
              "    </tr>\n",
              "  </thead>\n",
              "  <tbody>\n",
              "    <tr>\n",
              "      <th>0</th>\n",
              "      <td>-2.199768</td>\n",
              "      <td>-0.631181</td>\n",
              "      <td>-0.808633</td>\n",
              "      <td>-0.864390</td>\n",
              "    </tr>\n",
              "    <tr>\n",
              "      <th>1</th>\n",
              "      <td>-1.533840</td>\n",
              "      <td>-0.903947</td>\n",
              "      <td>-0.999317</td>\n",
              "      <td>-0.854882</td>\n",
              "    </tr>\n",
              "    <tr>\n",
              "      <th>2</th>\n",
              "      <td>-0.316694</td>\n",
              "      <td>-0.740420</td>\n",
              "      <td>-0.311427</td>\n",
              "      <td>-0.234521</td>\n",
              "    </tr>\n",
              "  </tbody>\n",
              "</table>\n",
              "</div>\n",
              "      <button class=\"colab-df-convert\" onclick=\"convertToInteractive('df-e3be915c-537b-4a28-bbf9-11bbc7dd640a')\"\n",
              "              title=\"Convert this dataframe to an interactive table.\"\n",
              "              style=\"display:none;\">\n",
              "        \n",
              "  <svg xmlns=\"http://www.w3.org/2000/svg\" height=\"24px\"viewBox=\"0 0 24 24\"\n",
              "       width=\"24px\">\n",
              "    <path d=\"M0 0h24v24H0V0z\" fill=\"none\"/>\n",
              "    <path d=\"M18.56 5.44l.94 2.06.94-2.06 2.06-.94-2.06-.94-.94-2.06-.94 2.06-2.06.94zm-11 1L8.5 8.5l.94-2.06 2.06-.94-2.06-.94L8.5 2.5l-.94 2.06-2.06.94zm10 10l.94 2.06.94-2.06 2.06-.94-2.06-.94-.94-2.06-.94 2.06-2.06.94z\"/><path d=\"M17.41 7.96l-1.37-1.37c-.4-.4-.92-.59-1.43-.59-.52 0-1.04.2-1.43.59L10.3 9.45l-7.72 7.72c-.78.78-.78 2.05 0 2.83L4 21.41c.39.39.9.59 1.41.59.51 0 1.02-.2 1.41-.59l7.78-7.78 2.81-2.81c.8-.78.8-2.07 0-2.86zM5.41 20L4 18.59l7.72-7.72 1.47 1.35L5.41 20z\"/>\n",
              "  </svg>\n",
              "      </button>\n",
              "      \n",
              "  <style>\n",
              "    .colab-df-container {\n",
              "      display:flex;\n",
              "      flex-wrap:wrap;\n",
              "      gap: 12px;\n",
              "    }\n",
              "\n",
              "    .colab-df-convert {\n",
              "      background-color: #E8F0FE;\n",
              "      border: none;\n",
              "      border-radius: 50%;\n",
              "      cursor: pointer;\n",
              "      display: none;\n",
              "      fill: #1967D2;\n",
              "      height: 32px;\n",
              "      padding: 0 0 0 0;\n",
              "      width: 32px;\n",
              "    }\n",
              "\n",
              "    .colab-df-convert:hover {\n",
              "      background-color: #E2EBFA;\n",
              "      box-shadow: 0px 1px 2px rgba(60, 64, 67, 0.3), 0px 1px 3px 1px rgba(60, 64, 67, 0.15);\n",
              "      fill: #174EA6;\n",
              "    }\n",
              "\n",
              "    [theme=dark] .colab-df-convert {\n",
              "      background-color: #3B4455;\n",
              "      fill: #D2E3FC;\n",
              "    }\n",
              "\n",
              "    [theme=dark] .colab-df-convert:hover {\n",
              "      background-color: #434B5C;\n",
              "      box-shadow: 0px 1px 3px 1px rgba(0, 0, 0, 0.15);\n",
              "      filter: drop-shadow(0px 1px 2px rgba(0, 0, 0, 0.3));\n",
              "      fill: #FFFFFF;\n",
              "    }\n",
              "  </style>\n",
              "\n",
              "      <script>\n",
              "        const buttonEl =\n",
              "          document.querySelector('#df-e3be915c-537b-4a28-bbf9-11bbc7dd640a button.colab-df-convert');\n",
              "        buttonEl.style.display =\n",
              "          google.colab.kernel.accessAllowed ? 'block' : 'none';\n",
              "\n",
              "        async function convertToInteractive(key) {\n",
              "          const element = document.querySelector('#df-e3be915c-537b-4a28-bbf9-11bbc7dd640a');\n",
              "          const dataTable =\n",
              "            await google.colab.kernel.invokeFunction('convertToInteractive',\n",
              "                                                     [key], {});\n",
              "          if (!dataTable) return;\n",
              "\n",
              "          const docLinkHtml = 'Like what you see? Visit the ' +\n",
              "            '<a target=\"_blank\" href=https://colab.research.google.com/notebooks/data_table.ipynb>data table notebook</a>'\n",
              "            + ' to learn more about interactive tables.';\n",
              "          element.innerHTML = '';\n",
              "          dataTable['output_type'] = 'display_data';\n",
              "          await google.colab.output.renderOutput(dataTable, element);\n",
              "          const docLink = document.createElement('div');\n",
              "          docLink.innerHTML = docLinkHtml;\n",
              "          element.appendChild(docLink);\n",
              "        }\n",
              "      </script>\n",
              "    </div>\n",
              "  </div>\n",
              "  "
            ]
          },
          "metadata": {},
          "execution_count": 20
        }
      ]
    },
    {
      "cell_type": "code",
      "metadata": {
        "id": "pHPzGUyJiLuU",
        "colab": {
          "base_uri": "https://localhost:8080/",
          "height": 428
        },
        "outputId": "1b2c065d-0d98-49dc-eb9d-68613ddd8d34"
      },
      "source": [
        "# final plots\n",
        "xSin=np.linspace(minX, maxX, 200)\n",
        "ySin=np.sin(xSin)\n",
        "\n",
        "fig, ax = plt.subplots(figsize=(12,7))\n",
        "ax.plot(xSin,ySin,color='red', label='истинная зависимость')\n",
        "ax.scatter(data['x'],data['y'], color='blue', label='данные')\n",
        "ax.scatter(data['x'],data['SVR'], color='green', label='модель')\n",
        "ax.plot(np.sort(data['x']),data['SVR'][np.argsort(data['x'])], color='green', label='модель')\n",
        "ax.legend()\n",
        "plt.show()"
      ],
      "execution_count": null,
      "outputs": [
        {
          "output_type": "display_data",
          "data": {
            "text/plain": [
              "<Figure size 864x504 with 1 Axes>"
            ],
            "image/png": "[encoded data removed]"
          },
          "metadata": {
            "needs_background": "light"
          }
        }
      ]
    },
    {
      "cell_type": "markdown",
      "metadata": {
        "id": "dTr3Osf-jeNj"
      },
      "source": [
        "# Задача классификация"
      ]
    },
    {
      "cell_type": "markdown",
      "source": [
        "Сгенерируем тетовую задачу классификации с помощью разделяющей поверхности.\n",
        "\n",
        "$ y =\\frac{x}{4} sin(3 \\cdot x) + 0.9 \\cdot x  $"
      ],
      "metadata": {
        "id": "oiLPi16JtNce"
      }
    },
    {
      "cell_type": "code",
      "metadata": {
        "id": "ftpcWAyuji8f"
      },
      "source": [
        "volume = 50\n",
        "xMin = 0\n",
        "xMax = 5\n",
        "attr1 = np.random.uniform(xMin, xMax, volume)\n",
        "attr2 = np.random.uniform(xMin, xMax, volume)\n",
        "classLabel = np.where((attr1/4*np.sin(3.*attr1)+0.9*attr1-attr2)<0,\n",
        "                      0, 1)"
      ],
      "execution_count": null,
      "outputs": []
    },
    {
      "cell_type": "code",
      "metadata": {
        "id": "6U0PD-d9kUp3",
        "colab": {
          "base_uri": "https://localhost:8080/",
          "height": 206
        },
        "outputId": "3dab916d-2817-40b7-adb6-bbff00a84244"
      },
      "source": [
        "data2 = pd.DataFrame({'attr1':attr1, 'attr2':attr2,\n",
        "                      'label': classLabel})\n",
        "data2.head()"
      ],
      "execution_count": null,
      "outputs": [
        {
          "output_type": "execute_result",
          "data": {
            "text/plain": [
              "      attr1     attr2  label\n",
              "0  3.895889  2.134080      1\n",
              "1  0.868175  1.967826      0\n",
              "2  1.715274  3.808487      0\n",
              "3  0.529327  3.091475      0\n",
              "4  0.167163  1.484926      0"
            ],
            "text/html": [
              "\n",
              "  <div id=\"df-86d8abab-585e-4ccc-9296-e44e7f79dfd2\">\n",
              "    <div class=\"colab-df-container\">\n",
              "      <div>\n",
              "<style scoped>\n",
              "    .dataframe tbody tr th:only-of-type {\n",
              "        vertical-align: middle;\n",
              "    }\n",
              "\n",
              "    .dataframe tbody tr th {\n",
              "        vertical-align: top;\n",
              "    }\n",
              "\n",
              "    .dataframe thead th {\n",
              "        text-align: right;\n",
              "    }\n",
              "</style>\n",
              "<table border=\"1\" class=\"dataframe\">\n",
              "  <thead>\n",
              "    <tr style=\"text-align: right;\">\n",
              "      <th></th>\n",
              "      <th>attr1</th>\n",
              "      <th>attr2</th>\n",
              "      <th>label</th>\n",
              "    </tr>\n",
              "  </thead>\n",
              "  <tbody>\n",
              "    <tr>\n",
              "      <th>0</th>\n",
              "      <td>3.895889</td>\n",
              "      <td>2.134080</td>\n",
              "      <td>1</td>\n",
              "    </tr>\n",
              "    <tr>\n",
              "      <th>1</th>\n",
              "      <td>0.868175</td>\n",
              "      <td>1.967826</td>\n",
              "      <td>0</td>\n",
              "    </tr>\n",
              "    <tr>\n",
              "      <th>2</th>\n",
              "      <td>1.715274</td>\n",
              "      <td>3.808487</td>\n",
              "      <td>0</td>\n",
              "    </tr>\n",
              "    <tr>\n",
              "      <th>3</th>\n",
              "      <td>0.529327</td>\n",
              "      <td>3.091475</td>\n",
              "      <td>0</td>\n",
              "    </tr>\n",
              "    <tr>\n",
              "      <th>4</th>\n",
              "      <td>0.167163</td>\n",
              "      <td>1.484926</td>\n",
              "      <td>0</td>\n",
              "    </tr>\n",
              "  </tbody>\n",
              "</table>\n",
              "</div>\n",
              "      <button class=\"colab-df-convert\" onclick=\"convertToInteractive('df-86d8abab-585e-4ccc-9296-e44e7f79dfd2')\"\n",
              "              title=\"Convert this dataframe to an interactive table.\"\n",
              "              style=\"display:none;\">\n",
              "        \n",
              "  <svg xmlns=\"http://www.w3.org/2000/svg\" height=\"24px\"viewBox=\"0 0 24 24\"\n",
              "       width=\"24px\">\n",
              "    <path d=\"M0 0h24v24H0V0z\" fill=\"none\"/>\n",
              "    <path d=\"M18.56 5.44l.94 2.06.94-2.06 2.06-.94-2.06-.94-.94-2.06-.94 2.06-2.06.94zm-11 1L8.5 8.5l.94-2.06 2.06-.94-2.06-.94L8.5 2.5l-.94 2.06-2.06.94zm10 10l.94 2.06.94-2.06 2.06-.94-2.06-.94-.94-2.06-.94 2.06-2.06.94z\"/><path d=\"M17.41 7.96l-1.37-1.37c-.4-.4-.92-.59-1.43-.59-.52 0-1.04.2-1.43.59L10.3 9.45l-7.72 7.72c-.78.78-.78 2.05 0 2.83L4 21.41c.39.39.9.59 1.41.59.51 0 1.02-.2 1.41-.59l7.78-7.78 2.81-2.81c.8-.78.8-2.07 0-2.86zM5.41 20L4 18.59l7.72-7.72 1.47 1.35L5.41 20z\"/>\n",
              "  </svg>\n",
              "      </button>\n",
              "      \n",
              "  <style>\n",
              "    .colab-df-container {\n",
              "      display:flex;\n",
              "      flex-wrap:wrap;\n",
              "      gap: 12px;\n",
              "    }\n",
              "\n",
              "    .colab-df-convert {\n",
              "      background-color: #E8F0FE;\n",
              "      border: none;\n",
              "      border-radius: 50%;\n",
              "      cursor: pointer;\n",
              "      display: none;\n",
              "      fill: #1967D2;\n",
              "      height: 32px;\n",
              "      padding: 0 0 0 0;\n",
              "      width: 32px;\n",
              "    }\n",
              "\n",
              "    .colab-df-convert:hover {\n",
              "      background-color: #E2EBFA;\n",
              "      box-shadow: 0px 1px 2px rgba(60, 64, 67, 0.3), 0px 1px 3px 1px rgba(60, 64, 67, 0.15);\n",
              "      fill: #174EA6;\n",
              "    }\n",
              "\n",
              "    [theme=dark] .colab-df-convert {\n",
              "      background-color: #3B4455;\n",
              "      fill: #D2E3FC;\n",
              "    }\n",
              "\n",
              "    [theme=dark] .colab-df-convert:hover {\n",
              "      background-color: #434B5C;\n",
              "      box-shadow: 0px 1px 3px 1px rgba(0, 0, 0, 0.15);\n",
              "      filter: drop-shadow(0px 1px 2px rgba(0, 0, 0, 0.3));\n",
              "      fill: #FFFFFF;\n",
              "    }\n",
              "  </style>\n",
              "\n",
              "      <script>\n",
              "        const buttonEl =\n",
              "          document.querySelector('#df-86d8abab-585e-4ccc-9296-e44e7f79dfd2 button.colab-df-convert');\n",
              "        buttonEl.style.display =\n",
              "          google.colab.kernel.accessAllowed ? 'block' : 'none';\n",
              "\n",
              "        async function convertToInteractive(key) {\n",
              "          const element = document.querySelector('#df-86d8abab-585e-4ccc-9296-e44e7f79dfd2');\n",
              "          const dataTable =\n",
              "            await google.colab.kernel.invokeFunction('convertToInteractive',\n",
              "                                                     [key], {});\n",
              "          if (!dataTable) return;\n",
              "\n",
              "          const docLinkHtml = 'Like what you see? Visit the ' +\n",
              "            '<a target=\"_blank\" href=https://colab.research.google.com/notebooks/data_table.ipynb>data table notebook</a>'\n",
              "            + ' to learn more about interactive tables.';\n",
              "          element.innerHTML = '';\n",
              "          dataTable['output_type'] = 'display_data';\n",
              "          await google.colab.output.renderOutput(dataTable, element);\n",
              "          const docLink = document.createElement('div');\n",
              "          docLink.innerHTML = docLinkHtml;\n",
              "          element.appendChild(docLink);\n",
              "        }\n",
              "      </script>\n",
              "    </div>\n",
              "  </div>\n",
              "  "
            ]
          },
          "metadata": {},
          "execution_count": 23
        }
      ]
    },
    {
      "cell_type": "code",
      "metadata": {
        "id": "5rbzOPtvklqP",
        "colab": {
          "base_uri": "https://localhost:8080/",
          "height": 501
        },
        "outputId": "a4391736-aad0-4679-982d-f95b2ef5a1f6"
      },
      "source": [
        "x = np.linspace(0,5)\n",
        "y = x/4*np.sin(3.*x)+0.9*x\n",
        "\n",
        "fig, ax = plt.subplots(figsize=(8,8))\n",
        "ax.plot(x,y,color='red')\n",
        "ax.scatter(attr1, attr2, c=np.where(classLabel,'green','blue'))\n",
        "ax.set_xlim(0,5)\n",
        "ax.set_ylim(0,5)\n",
        "ax.set_xlabel('attr1')\n",
        "ax.set_ylabel('attr2')\n",
        "plt.show()"
      ],
      "execution_count": null,
      "outputs": [
        {
          "output_type": "display_data",
          "data": {
            "text/plain": [
              "<Figure size 576x576 with 1 Axes>"
            ],
            "image/png": "[encoded data removed]"
          },
          "metadata": {
            "needs_background": "light"
          }
        }
      ]
    },
    {
      "cell_type": "code",
      "metadata": {
        "id": "qqdEG7L0kwln",
        "colab": {
          "base_uri": "https://localhost:8080/"
        },
        "outputId": "a5a8360c-73e3-4c83-f3ef-ad6608ffdf69"
      },
      "source": [
        "data2.info()"
      ],
      "execution_count": null,
      "outputs": [
        {
          "output_type": "stream",
          "name": "stdout",
          "text": [
            "<class 'pandas.core.frame.DataFrame'>\n",
            "RangeIndex: 50 entries, 0 to 49\n",
            "Data columns (total 3 columns):\n",
            " #   Column  Non-Null Count  Dtype   \n",
            "---  ------  --------------  -----   \n",
            " 0   attr1   50 non-null     float64 \n",
            " 1   attr2   50 non-null     float64 \n",
            " 2   label   50 non-null     category\n",
            "dtypes: category(1), float64(2)\n",
            "memory usage: 1.1 KB\n"
          ]
        }
      ]
    },
    {
      "cell_type": "markdown",
      "source": [
        "Метки классов определены как целый тип, нужно поменять на категориальный."
      ],
      "metadata": {
        "id": "VyfzmTvPtwh9"
      }
    },
    {
      "cell_type": "code",
      "metadata": {
        "id": "TmCukmIkk7kF",
        "colab": {
          "base_uri": "https://localhost:8080/"
        },
        "outputId": "78c5b959-e4c3-4c9d-c8c9-d3f82b0622a0"
      },
      "source": [
        "# convert labels from numbers into category\n",
        "data2['label'] = data2['label'].astype('category')\n",
        "data2.info()"
      ],
      "execution_count": null,
      "outputs": [
        {
          "output_type": "stream",
          "name": "stdout",
          "text": [
            "<class 'pandas.core.frame.DataFrame'>\n",
            "RangeIndex: 50 entries, 0 to 49\n",
            "Data columns (total 3 columns):\n",
            " #   Column  Non-Null Count  Dtype   \n",
            "---  ------  --------------  -----   \n",
            " 0   attr1   50 non-null     float64 \n",
            " 1   attr2   50 non-null     float64 \n",
            " 2   label   50 non-null     category\n",
            "dtypes: category(1), float64(2)\n",
            "memory usage: 1.1 KB\n"
          ]
        }
      ]
    },
    {
      "cell_type": "code",
      "metadata": {
        "id": "zYzGRm-Slfxm",
        "colab": {
          "base_uri": "https://localhost:8080/"
        },
        "outputId": "86ceb72a-9153-489d-a02e-83b340b07107"
      },
      "source": [
        "data2['label'].describe()"
      ],
      "execution_count": null,
      "outputs": [
        {
          "output_type": "execute_result",
          "data": {
            "text/plain": [
              "count     50\n",
              "unique     2\n",
              "top        1\n",
              "freq      26\n",
              "Name: label, dtype: int64"
            ]
          },
          "metadata": {},
          "execution_count": 27
        }
      ]
    },
    {
      "cell_type": "code",
      "metadata": {
        "id": "1K_a6Z2QlsPK",
        "colab": {
          "base_uri": "https://localhost:8080/"
        },
        "outputId": "4e8c658c-322e-452f-a32e-2227fbadfc1a"
      },
      "source": [
        "data2['label'].value_counts()"
      ],
      "execution_count": null,
      "outputs": [
        {
          "output_type": "execute_result",
          "data": {
            "text/plain": [
              "1    26\n",
              "0    24\n",
              "Name: label, dtype: int64"
            ]
          },
          "metadata": {},
          "execution_count": 28
        }
      ]
    },
    {
      "cell_type": "code",
      "metadata": {
        "id": "iRbCN5H1l3wq",
        "colab": {
          "base_uri": "https://localhost:8080/",
          "height": 279
        },
        "outputId": "44cd772d-3249-4201-bf5a-474641cc9a26"
      },
      "source": [
        "data2['label'].value_counts().plot(kind='bar')"
      ],
      "execution_count": null,
      "outputs": [
        {
          "output_type": "execute_result",
          "data": {
            "text/plain": [
              "<matplotlib.axes._subplots.AxesSubplot at 0x7f33ef550450>"
            ]
          },
          "metadata": {},
          "execution_count": 30
        },
        {
          "output_type": "display_data",
          "data": {
            "text/plain": [
              "<Figure size 432x288 with 1 Axes>"
            ],
            "image/png": "[encoded data removed]"
          },
          "metadata": {
            "needs_background": "light"
          }
        }
      ]
    },
    {
      "cell_type": "code",
      "metadata": {
        "id": "xzTKcGZ2mSRa"
      },
      "source": [
        "train, test = train_test_split(data2)"
      ],
      "execution_count": null,
      "outputs": []
    },
    {
      "cell_type": "markdown",
      "source": [
        "Применим алгоритм Наивный Байесовский классификатор (вариант с гауссовыми функциями)"
      ],
      "metadata": {
        "id": "WcWbErElt7r9"
      }
    },
    {
      "cell_type": "code",
      "metadata": {
        "id": "2NAuvKeYmVoa"
      },
      "source": [
        "gnb1 = GaussianNB()\n",
        "gnb1.fit(train[['attr1','attr2']].values,\n",
        "         train['label'].values)\n",
        "predLabels = gnb1.predict(test[['attr1','attr2']])"
      ],
      "execution_count": null,
      "outputs": []
    },
    {
      "cell_type": "markdown",
      "source": [
        "Посчитаем меры качества, матрицу ошибок и напечатаем полный отчет."
      ],
      "metadata": {
        "id": "K8yfdf2fuK-4"
      }
    },
    {
      "cell_type": "code",
      "metadata": {
        "id": "QZ8MOSIPmi1U",
        "colab": {
          "base_uri": "https://localhost:8080/"
        },
        "outputId": "572a6f09-2aff-4ba2-ab85-ece5de16dd69"
      },
      "source": [
        "print('accuracy:',\n",
        "      mtrx.accuracy_score(predLabels,test['label'])*100)\n",
        "print('error:', (\n",
        "    1-mtrx.accuracy_score(predLabels,test['label']))*100)\n",
        "print('f1:',\n",
        "      mtrx.f1_score(predLabels,test['label']))"
      ],
      "execution_count": null,
      "outputs": [
        {
          "output_type": "stream",
          "name": "stdout",
          "text": [
            "accuracy: 92.3076923076923\n",
            "error: 7.692307692307687\n",
            "f1: 0.923076923076923\n"
          ]
        }
      ]
    },
    {
      "cell_type": "code",
      "metadata": {
        "id": "CjZTrYarpRkp",
        "colab": {
          "base_uri": "https://localhost:8080/"
        },
        "outputId": "d751611e-3cd6-4cf9-ade5-9fdb91888f11"
      },
      "source": [
        "mtrx.confusion_matrix(predLabels,test['label'])"
      ],
      "execution_count": null,
      "outputs": [
        {
          "output_type": "execute_result",
          "data": {
            "text/plain": [
              "array([[6, 0],\n",
              "       [1, 6]])"
            ]
          },
          "metadata": {},
          "execution_count": 33
        }
      ]
    },
    {
      "cell_type": "code",
      "metadata": {
        "id": "tSc0aoypp50w"
      },
      "source": [
        "print(mtrx.classification_report(predLabels,test['label']))"
      ],
      "execution_count": null,
      "outputs": []
    },
    {
      "cell_type": "markdown",
      "source": [
        "Нарисуем прогноз на тестовой выборке."
      ],
      "metadata": {
        "id": "2EI6kIw3uS1g"
      }
    },
    {
      "cell_type": "code",
      "metadata": {
        "id": "hJT7bOSMqUDr"
      },
      "source": [
        "test['prediction']=predLabels"
      ],
      "execution_count": null,
      "outputs": []
    },
    {
      "cell_type": "code",
      "metadata": {
        "id": "hrfVkCWcqWWK",
        "colab": {
          "base_uri": "https://localhost:8080/",
          "height": 392
        },
        "outputId": "f17d6eff-81e6-4ffb-ada8-2a1f0179d08a"
      },
      "source": [
        "fig, ax = plt.subplots(figsize=(6,6))\n",
        "ax.plot(x,y,color='red')\n",
        "ax.scatter(test['attr1'], test['attr2'],\n",
        "           c=np.where(test['prediction'],'green','blue'))\n",
        "ax.set_xlim(0,5)\n",
        "ax.set_ylim(0,5)\n",
        "ax.set_xlabel('attr1')\n",
        "ax.set_ylabel('attr2')\n",
        "plt.show()"
      ],
      "execution_count": null,
      "outputs": [
        {
          "output_type": "display_data",
          "data": {
            "text/plain": [
              "<Figure size 432x432 with 1 Axes>"
            ],
            "image/png": "[encoded data removed]"
          },
          "metadata": {
            "needs_background": "light"
          }
        }
      ]
    },
    {
      "cell_type": "markdown",
      "source": [
        "*Примечаение. Для классификации также надо делать кросс-валидацию. Если алгоритм имеет параметры - подбирать.*"
      ],
      "metadata": {
        "id": "d6NJWaZGuaHv"
      }
    },
    {
      "cell_type": "markdown",
      "metadata": {
        "id": "_1BdqEFHq04M"
      },
      "source": [
        "# Задача кластеризации"
      ]
    },
    {
      "cell_type": "markdown",
      "source": [
        "Сгенерируем 3 нормально распределенных и непересекающиеся группы данных."
      ],
      "metadata": {
        "id": "WevFZOfAukT1"
      }
    },
    {
      "cell_type": "code",
      "metadata": {
        "id": "VLOwqJugq5Bs"
      },
      "source": [
        "# [0,10]\n",
        "x1=np.random.normal(3,0.7,20)\n",
        "y1=np.random.normal(2,0.5,20)\n",
        "label1=np.array([1]*20)\n",
        "x2=np.random.normal(7,0.7,20)\n",
        "y2=np.random.normal(4,0.5,20)\n",
        "label2=np.array([2]*20)\n",
        "x3=np.random.normal(4,1,20)\n",
        "y3=np.random.normal(7,0.7,20)\n",
        "label3=np.array([3]*20)"
      ],
      "execution_count": null,
      "outputs": []
    },
    {
      "cell_type": "code",
      "metadata": {
        "id": "xVHEG4IZqxRx",
        "colab": {
          "base_uri": "https://localhost:8080/",
          "height": 378
        },
        "outputId": "018f161e-d80e-465b-d058-a3b25ff6a289"
      },
      "source": [
        "fig, ax = plt.subplots(figsize=(6,6))\n",
        "ax.scatter(x1, y1)\n",
        "ax.scatter(x2, y2)\n",
        "ax.scatter(x3, y3)\n",
        "ax.set_xlim(0,10)\n",
        "ax.set_ylim(0,10)\n",
        "plt.show()"
      ],
      "execution_count": null,
      "outputs": [
        {
          "output_type": "display_data",
          "data": {
            "text/plain": [
              "<Figure size 432x432 with 1 Axes>"
            ],
            "image/png": "[encoded data removed]"
          },
          "metadata": {
            "needs_background": "light"
          }
        }
      ]
    },
    {
      "cell_type": "markdown",
      "source": [
        "Сохраним в датафрейм. Метки групп мы используем только для проверки для себя, алгоритм про них не будет знать."
      ],
      "metadata": {
        "id": "zjHx1AGguvKV"
      }
    },
    {
      "cell_type": "code",
      "metadata": {
        "id": "P5Y-Yw6Cre3x",
        "colab": {
          "base_uri": "https://localhost:8080/",
          "height": 206
        },
        "outputId": "a0b69282-2704-49db-dcce-5b8db1e20e0f"
      },
      "source": [
        "x=np.concatenate((x1,x2,x3))\n",
        "y=np.concatenate((y1,y2,y3))\n",
        "label=np.concatenate((label1,label2,label3))\n",
        "data3=pd.DataFrame({'x':x,'y':y, 'label':label})\n",
        "data3.head()"
      ],
      "execution_count": null,
      "outputs": [
        {
          "output_type": "execute_result",
          "data": {
            "text/plain": [
              "          x         y  label\n",
              "0  3.633614  2.207576      1\n",
              "1  2.934931  2.343134      1\n",
              "2  2.402088  3.828624      1\n",
              "3  2.938499  1.692828      1\n",
              "4  3.377160  1.903747      1"
            ],
            "text/html": [
              "\n",
              "  <div id=\"df-8cbdad30-68e6-4ecc-aeab-2f8afa86fc3c\">\n",
              "    <div class=\"colab-df-container\">\n",
              "      <div>\n",
              "<style scoped>\n",
              "    .dataframe tbody tr th:only-of-type {\n",
              "        vertical-align: middle;\n",
              "    }\n",
              "\n",
              "    .dataframe tbody tr th {\n",
              "        vertical-align: top;\n",
              "    }\n",
              "\n",
              "    .dataframe thead th {\n",
              "        text-align: right;\n",
              "    }\n",
              "</style>\n",
              "<table border=\"1\" class=\"dataframe\">\n",
              "  <thead>\n",
              "    <tr style=\"text-align: right;\">\n",
              "      <th></th>\n",
              "      <th>x</th>\n",
              "      <th>y</th>\n",
              "      <th>label</th>\n",
              "    </tr>\n",
              "  </thead>\n",
              "  <tbody>\n",
              "    <tr>\n",
              "      <th>0</th>\n",
              "      <td>3.633614</td>\n",
              "      <td>2.207576</td>\n",
              "      <td>1</td>\n",
              "    </tr>\n",
              "    <tr>\n",
              "      <th>1</th>\n",
              "      <td>2.934931</td>\n",
              "      <td>2.343134</td>\n",
              "      <td>1</td>\n",
              "    </tr>\n",
              "    <tr>\n",
              "      <th>2</th>\n",
              "      <td>2.402088</td>\n",
              "      <td>3.828624</td>\n",
              "      <td>1</td>\n",
              "    </tr>\n",
              "    <tr>\n",
              "      <th>3</th>\n",
              "      <td>2.938499</td>\n",
              "      <td>1.692828</td>\n",
              "      <td>1</td>\n",
              "    </tr>\n",
              "    <tr>\n",
              "      <th>4</th>\n",
              "      <td>3.377160</td>\n",
              "      <td>1.903747</td>\n",
              "      <td>1</td>\n",
              "    </tr>\n",
              "  </tbody>\n",
              "</table>\n",
              "</div>\n",
              "      <button class=\"colab-df-convert\" onclick=\"convertToInteractive('df-8cbdad30-68e6-4ecc-aeab-2f8afa86fc3c')\"\n",
              "              title=\"Convert this dataframe to an interactive table.\"\n",
              "              style=\"display:none;\">\n",
              "        \n",
              "  <svg xmlns=\"http://www.w3.org/2000/svg\" height=\"24px\"viewBox=\"0 0 24 24\"\n",
              "       width=\"24px\">\n",
              "    <path d=\"M0 0h24v24H0V0z\" fill=\"none\"/>\n",
              "    <path d=\"M18.56 5.44l.94 2.06.94-2.06 2.06-.94-2.06-.94-.94-2.06-.94 2.06-2.06.94zm-11 1L8.5 8.5l.94-2.06 2.06-.94-2.06-.94L8.5 2.5l-.94 2.06-2.06.94zm10 10l.94 2.06.94-2.06 2.06-.94-2.06-.94-.94-2.06-.94 2.06-2.06.94z\"/><path d=\"M17.41 7.96l-1.37-1.37c-.4-.4-.92-.59-1.43-.59-.52 0-1.04.2-1.43.59L10.3 9.45l-7.72 7.72c-.78.78-.78 2.05 0 2.83L4 21.41c.39.39.9.59 1.41.59.51 0 1.02-.2 1.41-.59l7.78-7.78 2.81-2.81c.8-.78.8-2.07 0-2.86zM5.41 20L4 18.59l7.72-7.72 1.47 1.35L5.41 20z\"/>\n",
              "  </svg>\n",
              "      </button>\n",
              "      \n",
              "  <style>\n",
              "    .colab-df-container {\n",
              "      display:flex;\n",
              "      flex-wrap:wrap;\n",
              "      gap: 12px;\n",
              "    }\n",
              "\n",
              "    .colab-df-convert {\n",
              "      background-color: #E8F0FE;\n",
              "      border: none;\n",
              "      border-radius: 50%;\n",
              "      cursor: pointer;\n",
              "      display: none;\n",
              "      fill: #1967D2;\n",
              "      height: 32px;\n",
              "      padding: 0 0 0 0;\n",
              "      width: 32px;\n",
              "    }\n",
              "\n",
              "    .colab-df-convert:hover {\n",
              "      background-color: #E2EBFA;\n",
              "      box-shadow: 0px 1px 2px rgba(60, 64, 67, 0.3), 0px 1px 3px 1px rgba(60, 64, 67, 0.15);\n",
              "      fill: #174EA6;\n",
              "    }\n",
              "\n",
              "    [theme=dark] .colab-df-convert {\n",
              "      background-color: #3B4455;\n",
              "      fill: #D2E3FC;\n",
              "    }\n",
              "\n",
              "    [theme=dark] .colab-df-convert:hover {\n",
              "      background-color: #434B5C;\n",
              "      box-shadow: 0px 1px 3px 1px rgba(0, 0, 0, 0.15);\n",
              "      filter: drop-shadow(0px 1px 2px rgba(0, 0, 0, 0.3));\n",
              "      fill: #FFFFFF;\n",
              "    }\n",
              "  </style>\n",
              "\n",
              "      <script>\n",
              "        const buttonEl =\n",
              "          document.querySelector('#df-8cbdad30-68e6-4ecc-aeab-2f8afa86fc3c button.colab-df-convert');\n",
              "        buttonEl.style.display =\n",
              "          google.colab.kernel.accessAllowed ? 'block' : 'none';\n",
              "\n",
              "        async function convertToInteractive(key) {\n",
              "          const element = document.querySelector('#df-8cbdad30-68e6-4ecc-aeab-2f8afa86fc3c');\n",
              "          const dataTable =\n",
              "            await google.colab.kernel.invokeFunction('convertToInteractive',\n",
              "                                                     [key], {});\n",
              "          if (!dataTable) return;\n",
              "\n",
              "          const docLinkHtml = 'Like what you see? Visit the ' +\n",
              "            '<a target=\"_blank\" href=https://colab.research.google.com/notebooks/data_table.ipynb>data table notebook</a>'\n",
              "            + ' to learn more about interactive tables.';\n",
              "          element.innerHTML = '';\n",
              "          dataTable['output_type'] = 'display_data';\n",
              "          await google.colab.output.renderOutput(dataTable, element);\n",
              "          const docLink = document.createElement('div');\n",
              "          docLink.innerHTML = docLinkHtml;\n",
              "          element.appendChild(docLink);\n",
              "        }\n",
              "      </script>\n",
              "    </div>\n",
              "  </div>\n",
              "  "
            ]
          },
          "metadata": {},
          "execution_count": 38
        }
      ]
    },
    {
      "cell_type": "markdown",
      "source": [
        "Построим дендрограмму (пример взят с сайта matplotlib),"
      ],
      "metadata": {
        "id": "WmvhXCcSu5vK"
      }
    },
    {
      "cell_type": "code",
      "metadata": {
        "id": "y0oCr2Lcriy6"
      },
      "source": [
        "def plot_dendrogram(model, **kwargs):\n",
        "    # Create linkage matrix and then plot the dendrogram\n",
        "\n",
        "    # create the counts of samples under each node\n",
        "    counts = np.zeros(model.children_.shape[0])\n",
        "    n_samples = len(model.labels_)\n",
        "    for i, merge in enumerate(model.children_):\n",
        "        current_count = 0\n",
        "        for child_idx in merge:\n",
        "            if child_idx < n_samples:\n",
        "                current_count += 1  # leaf node\n",
        "            else:\n",
        "                current_count += counts[child_idx - n_samples]\n",
        "        counts[i] = current_count\n",
        "\n",
        "    linkage_matrix = np.column_stack([model.children_, model.distances_,\n",
        "                                      counts]).astype(float)\n",
        "\n",
        "    # Plot the corresponding dendrogram\n",
        "    dendrogram(linkage_matrix, **kwargs)"
      ],
      "execution_count": null,
      "outputs": []
    },
    {
      "cell_type": "code",
      "metadata": {
        "id": "MwQ6ZivbroKG",
        "colab": {
          "base_uri": "https://localhost:8080/",
          "height": 298
        },
        "outputId": "bf783498-38f9-4d7c-9b34-a92c0cf4c3f6"
      },
      "source": [
        "model = AgglomerativeClustering(distance_threshold=0, n_clusters=None)\n",
        "model = model.fit(data3[['x','y']])\n",
        "\n",
        "plt.title('Hierarchical Clustering Dendrogram')\n",
        "# plot the top three levels of the dendrogram\n",
        "plot_dendrogram(model, truncate_mode='level', p=3)\n",
        "plt.xlabel(\"Number of points in node (or index of point if no parenthesis).\")\n",
        "plt.show()"
      ],
      "execution_count": null,
      "outputs": [
        {
          "output_type": "display_data",
          "data": {
            "text/plain": [
              "<Figure size 432x288 with 1 Axes>"
            ],
            "image/png": "[encoded data removed]"
          },
          "metadata": {
            "needs_background": "light"
          }
        }
      ]
    },
    {
      "cell_type": "markdown",
      "source": [
        "Решим задачу методом К-средних с инициализацией начальных положений кластеров k-means++."
      ],
      "metadata": {
        "id": "CF9cSA6evEUu"
      }
    },
    {
      "cell_type": "code",
      "metadata": {
        "id": "C4m9OFTksDjf",
        "colab": {
          "base_uri": "https://localhost:8080/"
        },
        "outputId": "fcba3d73-6b25-4552-d190-bb53cf94ea47"
      },
      "source": [
        "kmeans = KMeans(n_clusters=3, init='k-means++')\n",
        "kmeans.fit(data3[['x','y']])"
      ],
      "execution_count": null,
      "outputs": [
        {
          "output_type": "execute_result",
          "data": {
            "text/plain": [
              "KMeans(n_clusters=3)"
            ]
          },
          "metadata": {},
          "execution_count": 42
        }
      ]
    },
    {
      "cell_type": "code",
      "metadata": {
        "id": "G-Br9ka2sHqg",
        "colab": {
          "base_uri": "https://localhost:8080/"
        },
        "outputId": "ddb2e3c4-9746-483e-cbd7-188afb02c7f7"
      },
      "source": [
        "kmeans.cluster_centers_"
      ],
      "execution_count": null,
      "outputs": [
        {
          "output_type": "execute_result",
          "data": {
            "text/plain": [
              "array([[4.09649707, 7.18168657],\n",
              "       [6.86460263, 4.07522731],\n",
              "       [3.10968752, 2.14808936]])"
            ]
          },
          "metadata": {},
          "execution_count": 43
        }
      ]
    },
    {
      "cell_type": "code",
      "metadata": {
        "id": "C0MEp_uxsiOc",
        "colab": {
          "base_uri": "https://localhost:8080/",
          "height": 378
        },
        "outputId": "bde0fe09-fa67-4882-9817-1bd516b8be93"
      },
      "source": [
        "fig, ax = plt.subplots(figsize=(6,6))\n",
        "ax.scatter(x1, y1)\n",
        "ax.scatter(x2, y2)\n",
        "ax.scatter(x3, y3)\n",
        "ax.scatter(kmeans.cluster_centers_[:,0],kmeans.cluster_centers_[:,1], color='red')\n",
        "ax.set_xlim(0,10)\n",
        "ax.set_ylim(0,10)\n",
        "plt.show()"
      ],
      "execution_count": null,
      "outputs": [
        {
          "output_type": "display_data",
          "data": {
            "text/plain": [
              "<Figure size 432x432 with 1 Axes>"
            ],
            "image/png": "[encoded data removed]"
          },
          "metadata": {
            "needs_background": "light"
          }
        }
      ]
    },
    {
      "cell_type": "code",
      "metadata": {
        "id": "EPAoieSGsnVT",
        "colab": {
          "base_uri": "https://localhost:8080/"
        },
        "outputId": "3963416d-9b59-4b63-ceb7-29930667920d"
      },
      "source": [
        "# прогноз меток кластеров\n",
        "#Могут не совпадать с исходными. Важно чтобы в одной группе были одинаковые метки, какие именно - не важно, можно переназвать.\n",
        "kmeans.labels_"
      ],
      "execution_count": null,
      "outputs": [
        {
          "output_type": "execute_result",
          "data": {
            "text/plain": [
              "array([1, 1, 9, 4, 1, 4, 1, 5, 1, 1, 1, 1, 1, 5, 4, 1, 1, 4, 4, 4, 0, 3,\n",
              "       8, 8, 3, 0, 8, 0, 3, 8, 0, 0, 0, 8, 0, 0, 3, 0, 0, 3, 2, 2, 7, 2,\n",
              "       2, 6, 2, 2, 2, 7, 2, 2, 6, 7, 2, 2, 7, 6, 2, 7], dtype=int32)"
            ]
          },
          "metadata": {},
          "execution_count": 48
        }
      ]
    },
    {
      "cell_type": "code",
      "metadata": {
        "id": "B0wCij3Cspoo",
        "colab": {
          "base_uri": "https://localhost:8080/"
        },
        "outputId": "882df06c-09a3-41da-d876-106b54de5d8b"
      },
      "source": [
        "# итоговое значение \"инерции\"\n",
        "kmeans.inertia_"
      ],
      "execution_count": null,
      "outputs": [
        {
          "output_type": "execute_result",
          "data": {
            "text/plain": [
              "13.666237639941423"
            ]
          },
          "metadata": {},
          "execution_count": 47
        }
      ]
    },
    {
      "cell_type": "markdown",
      "source": [
        "Проверим выбор числа кластов методом \"локтя\""
      ],
      "metadata": {
        "id": "84A7HDWnvtN3"
      }
    },
    {
      "cell_type": "code",
      "source": [
        "inertia = []\n",
        "\n",
        "for i in range(10):\n",
        "  kmeans = KMeans(n_clusters=i+1, init='k-means++')\n",
        "  kmeans.fit(data3[['x','y']])\n",
        "  inertia.append(kmeans.inertia_)"
      ],
      "metadata": {
        "id": "cF6rz1bovxgQ"
      },
      "execution_count": null,
      "outputs": []
    },
    {
      "cell_type": "code",
      "source": [
        "fig, ax = plt.subplots(figsize=(10,6))\n",
        "ax.plot(np.arange(1,11), inertia)\n",
        "ax.scatter(np.arange(1,11), inertia)\n",
        "plt.show()"
      ],
      "metadata": {
        "id": "0p1S0UACwEp-",
        "colab": {
          "base_uri": "https://localhost:8080/",
          "height": 374
        },
        "outputId": "1e06b3ba-4d3b-4143-ff0f-3f46f204a773"
      },
      "execution_count": null,
      "outputs": [
        {
          "output_type": "display_data",
          "data": {
            "text/plain": [
              "<Figure size 720x432 with 1 Axes>"
            ],
            "image/png": "[encoded data removed]"
          },
          "metadata": {
            "needs_background": "light"
          }
        }
      ]
    }
  ]
}